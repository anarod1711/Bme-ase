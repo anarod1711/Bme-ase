{
 "cells": [
  {
   "cell_type": "markdown",
   "metadata": {},
   "source": [
    "# Uber Movement"
   ]
  },
  {
   "cell_type": "markdown",
   "metadata": {},
   "source": [
    "### Ingest Data from Uber Dataset"
   ]
  },
  {
   "cell_type": "code",
   "execution_count": 5,
   "metadata": {},
   "outputs": [
    {
     "name": "stdout",
     "output_type": "stream",
     "text": [
      "BigQuery error in mk operation: Dataset 'responsive-cab-267123:uber_staging'\n",
      "already exists.\n"
     ]
    }
   ],
   "source": [
    "dataset_id = \"uber_staging\"\n",
    "!bq --location=US mk --dataset {dataset_id}  #Note: This will not work if you already have a dataset with this name"
   ]
  },
  {
   "cell_type": "markdown",
   "metadata": {},
   "source": [
    "### Creating and Displaying Tables"
   ]
  },
  {
   "cell_type": "code",
   "execution_count": 6,
   "metadata": {},
   "outputs": [],
   "source": [
    "#Notice that the \"bmease\" bucket does not have any hyphens, since GCP doesn't like that.\n",
    "#Format: !bq --location=US load --autodetect --skip_leading_rows=1 --source_format=CSV {dataset_id}.Summer18 'gs://<bucketName>/<dataSourceFileName>'"
   ]
  },
  {
   "cell_type": "markdown",
   "metadata": {},
   "source": [
    "#### Quarter 1 of 2018"
   ]
  },
  {
   "cell_type": "code",
   "execution_count": 10,
   "metadata": {},
   "outputs": [
    {
     "name": "stdout",
     "output_type": "stream",
     "text": [
      "Waiting on bqjob_r4473cf5ede977e8a_000001702c5ca3dc_1 ... (48s) Current status: DONE   \n"
     ]
    }
   ],
   "source": [
    "!bq --location=US load --autodetect --skip_leading_rows=1 --source_format=CSV {dataset_id}.Quarter1_2018 'gs://bmease/travel_times_LA_2018_quarter1.csv'"
   ]
  },
  {
   "cell_type": "code",
   "execution_count": 25,
   "metadata": {},
   "outputs": [
    {
     "data": {
      "text/html": [
       "<div>\n",
       "<style scoped>\n",
       "    .dataframe tbody tr th:only-of-type {\n",
       "        vertical-align: middle;\n",
       "    }\n",
       "\n",
       "    .dataframe tbody tr th {\n",
       "        vertical-align: top;\n",
       "    }\n",
       "\n",
       "    .dataframe thead th {\n",
       "        text-align: right;\n",
       "    }\n",
       "</style>\n",
       "<table border=\"1\" class=\"dataframe\">\n",
       "  <thead>\n",
       "    <tr style=\"text-align: right;\">\n",
       "      <th></th>\n",
       "      <th>sourceid</th>\n",
       "      <th>dstid</th>\n",
       "      <th>month</th>\n",
       "      <th>mean_travel_time</th>\n",
       "      <th>standard_deviation_travel_time</th>\n",
       "      <th>geometric_mean_travel_time</th>\n",
       "      <th>geometric_standard_deviation_travel_time</th>\n",
       "    </tr>\n",
       "  </thead>\n",
       "  <tbody>\n",
       "    <tr>\n",
       "      <th>0</th>\n",
       "      <td>1157</td>\n",
       "      <td>1235</td>\n",
       "      <td>1</td>\n",
       "      <td>172.14</td>\n",
       "      <td>139.66</td>\n",
       "      <td>140.33</td>\n",
       "      <td>1.84</td>\n",
       "    </tr>\n",
       "    <tr>\n",
       "      <th>1</th>\n",
       "      <td>1142</td>\n",
       "      <td>1385</td>\n",
       "      <td>1</td>\n",
       "      <td>594.16</td>\n",
       "      <td>346.87</td>\n",
       "      <td>517.94</td>\n",
       "      <td>1.67</td>\n",
       "    </tr>\n",
       "    <tr>\n",
       "      <th>2</th>\n",
       "      <td>1080</td>\n",
       "      <td>1379</td>\n",
       "      <td>1</td>\n",
       "      <td>952.01</td>\n",
       "      <td>522.56</td>\n",
       "      <td>836.84</td>\n",
       "      <td>1.64</td>\n",
       "    </tr>\n",
       "    <tr>\n",
       "      <th>3</th>\n",
       "      <td>1095</td>\n",
       "      <td>1229</td>\n",
       "      <td>1</td>\n",
       "      <td>1287.43</td>\n",
       "      <td>651.52</td>\n",
       "      <td>1142.63</td>\n",
       "      <td>1.63</td>\n",
       "    </tr>\n",
       "    <tr>\n",
       "      <th>4</th>\n",
       "      <td>1165</td>\n",
       "      <td>1155</td>\n",
       "      <td>1</td>\n",
       "      <td>470.87</td>\n",
       "      <td>339.44</td>\n",
       "      <td>397.53</td>\n",
       "      <td>1.74</td>\n",
       "    </tr>\n",
       "  </tbody>\n",
       "</table>\n",
       "</div>"
      ],
      "text/plain": [
       "   sourceid  dstid  month  mean_travel_time  standard_deviation_travel_time  \\\n",
       "0      1157   1235      1            172.14                          139.66   \n",
       "1      1142   1385      1            594.16                          346.87   \n",
       "2      1080   1379      1            952.01                          522.56   \n",
       "3      1095   1229      1           1287.43                          651.52   \n",
       "4      1165   1155      1            470.87                          339.44   \n",
       "\n",
       "   geometric_mean_travel_time  geometric_standard_deviation_travel_time  \n",
       "0                      140.33                                      1.84  \n",
       "1                      517.94                                      1.67  \n",
       "2                      836.84                                      1.64  \n",
       "3                     1142.63                                      1.63  \n",
       "4                      397.53                                      1.74  "
      ]
     },
     "execution_count": 25,
     "metadata": {},
     "output_type": "execute_result"
    }
   ],
   "source": [
    "%%bigquery\n",
    "select * from uber_staging.Quarter1_2018 limit 5\n"
   ]
  },
  {
   "cell_type": "markdown",
   "metadata": {},
   "source": [
    "#### Quarter 3 of 2018"
   ]
  },
  {
   "cell_type": "code",
   "execution_count": 11,
   "metadata": {},
   "outputs": [
    {
     "name": "stdout",
     "output_type": "stream",
     "text": [
      "Waiting on bqjob_r1c770c8d8d2c8f59_000001702c5d6964_1 ... (65s) Current status: DONE   \n"
     ]
    }
   ],
   "source": [
    "!bq --location=US load --autodetect --skip_leading_rows=1 --source_format=CSV {dataset_id}.Quarter3_2018 'gs://bmease/travel_times_LA_2018_quarter3.csv'"
   ]
  },
  {
   "cell_type": "code",
   "execution_count": 26,
   "metadata": {},
   "outputs": [
    {
     "data": {
      "text/html": [
       "<div>\n",
       "<style scoped>\n",
       "    .dataframe tbody tr th:only-of-type {\n",
       "        vertical-align: middle;\n",
       "    }\n",
       "\n",
       "    .dataframe tbody tr th {\n",
       "        vertical-align: top;\n",
       "    }\n",
       "\n",
       "    .dataframe thead th {\n",
       "        text-align: right;\n",
       "    }\n",
       "</style>\n",
       "<table border=\"1\" class=\"dataframe\">\n",
       "  <thead>\n",
       "    <tr style=\"text-align: right;\">\n",
       "      <th></th>\n",
       "      <th>sourceid</th>\n",
       "      <th>dstid</th>\n",
       "      <th>month</th>\n",
       "      <th>mean_travel_time</th>\n",
       "      <th>standard_deviation_travel_time</th>\n",
       "      <th>geometric_mean_travel_time</th>\n",
       "      <th>geometric_standard_deviation_travel_time</th>\n",
       "    </tr>\n",
       "  </thead>\n",
       "  <tbody>\n",
       "    <tr>\n",
       "      <th>0</th>\n",
       "      <td>1989</td>\n",
       "      <td>309</td>\n",
       "      <td>7</td>\n",
       "      <td>705.54</td>\n",
       "      <td>870.35</td>\n",
       "      <td>564.58</td>\n",
       "      <td>1.74</td>\n",
       "    </tr>\n",
       "    <tr>\n",
       "      <th>1</th>\n",
       "      <td>1970</td>\n",
       "      <td>499</td>\n",
       "      <td>7</td>\n",
       "      <td>839.30</td>\n",
       "      <td>503.97</td>\n",
       "      <td>737.15</td>\n",
       "      <td>1.62</td>\n",
       "    </tr>\n",
       "    <tr>\n",
       "      <th>2</th>\n",
       "      <td>1545</td>\n",
       "      <td>1518</td>\n",
       "      <td>7</td>\n",
       "      <td>745.48</td>\n",
       "      <td>439.50</td>\n",
       "      <td>660.61</td>\n",
       "      <td>1.61</td>\n",
       "    </tr>\n",
       "    <tr>\n",
       "      <th>3</th>\n",
       "      <td>1988</td>\n",
       "      <td>319</td>\n",
       "      <td>7</td>\n",
       "      <td>191.32</td>\n",
       "      <td>109.36</td>\n",
       "      <td>166.78</td>\n",
       "      <td>1.70</td>\n",
       "    </tr>\n",
       "    <tr>\n",
       "      <th>4</th>\n",
       "      <td>174</td>\n",
       "      <td>39</td>\n",
       "      <td>7</td>\n",
       "      <td>465.89</td>\n",
       "      <td>250.88</td>\n",
       "      <td>418.39</td>\n",
       "      <td>1.60</td>\n",
       "    </tr>\n",
       "  </tbody>\n",
       "</table>\n",
       "</div>"
      ],
      "text/plain": [
       "   sourceid  dstid  month  mean_travel_time  standard_deviation_travel_time  \\\n",
       "0      1989    309      7            705.54                          870.35   \n",
       "1      1970    499      7            839.30                          503.97   \n",
       "2      1545   1518      7            745.48                          439.50   \n",
       "3      1988    319      7            191.32                          109.36   \n",
       "4       174     39      7            465.89                          250.88   \n",
       "\n",
       "   geometric_mean_travel_time  geometric_standard_deviation_travel_time  \n",
       "0                      564.58                                      1.74  \n",
       "1                      737.15                                      1.62  \n",
       "2                      660.61                                      1.61  \n",
       "3                      166.78                                      1.70  \n",
       "4                      418.39                                      1.60  "
      ]
     },
     "execution_count": 26,
     "metadata": {},
     "output_type": "execute_result"
    }
   ],
   "source": [
    "%%bigquery\n",
    "select * from uber_staging.Quarter3_2018 limit 5"
   ]
  },
  {
   "cell_type": "markdown",
   "metadata": {},
   "source": [
    "#### Quarter 1 of 2019"
   ]
  },
  {
   "cell_type": "code",
   "execution_count": 12,
   "metadata": {},
   "outputs": [
    {
     "name": "stdout",
     "output_type": "stream",
     "text": [
      "Waiting on bqjob_r22f9dc31869efa79_000001702c5e7192_1 ... (48s) Current status: DONE   \n"
     ]
    }
   ],
   "source": [
    "!bq --location=US load --autodetect --skip_leading_rows=1 --source_format=CSV {dataset_id}.Quarter1_2019 'gs://bmease/travel_times_LA_2019_quarter1.csv'"
   ]
  },
  {
   "cell_type": "code",
   "execution_count": 27,
   "metadata": {},
   "outputs": [
    {
     "data": {
      "text/html": [
       "<div>\n",
       "<style scoped>\n",
       "    .dataframe tbody tr th:only-of-type {\n",
       "        vertical-align: middle;\n",
       "    }\n",
       "\n",
       "    .dataframe tbody tr th {\n",
       "        vertical-align: top;\n",
       "    }\n",
       "\n",
       "    .dataframe thead th {\n",
       "        text-align: right;\n",
       "    }\n",
       "</style>\n",
       "<table border=\"1\" class=\"dataframe\">\n",
       "  <thead>\n",
       "    <tr style=\"text-align: right;\">\n",
       "      <th></th>\n",
       "      <th>sourceid</th>\n",
       "      <th>dstid</th>\n",
       "      <th>month</th>\n",
       "      <th>mean_travel_time</th>\n",
       "      <th>standard_deviation_travel_time</th>\n",
       "      <th>geometric_mean_travel_time</th>\n",
       "      <th>geometric_standard_deviation_travel_time</th>\n",
       "    </tr>\n",
       "  </thead>\n",
       "  <tbody>\n",
       "    <tr>\n",
       "      <th>0</th>\n",
       "      <td>1038</td>\n",
       "      <td>902</td>\n",
       "      <td>1</td>\n",
       "      <td>426.75</td>\n",
       "      <td>296.49</td>\n",
       "      <td>370.71</td>\n",
       "      <td>1.69</td>\n",
       "    </tr>\n",
       "    <tr>\n",
       "      <th>1</th>\n",
       "      <td>662</td>\n",
       "      <td>2403</td>\n",
       "      <td>1</td>\n",
       "      <td>544.05</td>\n",
       "      <td>357.81</td>\n",
       "      <td>473.43</td>\n",
       "      <td>1.63</td>\n",
       "    </tr>\n",
       "    <tr>\n",
       "      <th>2</th>\n",
       "      <td>1001</td>\n",
       "      <td>1523</td>\n",
       "      <td>1</td>\n",
       "      <td>1693.61</td>\n",
       "      <td>382.04</td>\n",
       "      <td>1655.94</td>\n",
       "      <td>1.23</td>\n",
       "    </tr>\n",
       "    <tr>\n",
       "      <th>3</th>\n",
       "      <td>2318</td>\n",
       "      <td>2584</td>\n",
       "      <td>1</td>\n",
       "      <td>1215.42</td>\n",
       "      <td>230.08</td>\n",
       "      <td>1194.10</td>\n",
       "      <td>1.21</td>\n",
       "    </tr>\n",
       "    <tr>\n",
       "      <th>4</th>\n",
       "      <td>473</td>\n",
       "      <td>2228</td>\n",
       "      <td>1</td>\n",
       "      <td>276.66</td>\n",
       "      <td>209.22</td>\n",
       "      <td>207.47</td>\n",
       "      <td>2.19</td>\n",
       "    </tr>\n",
       "  </tbody>\n",
       "</table>\n",
       "</div>"
      ],
      "text/plain": [
       "   sourceid  dstid  month  mean_travel_time  standard_deviation_travel_time  \\\n",
       "0      1038    902      1            426.75                          296.49   \n",
       "1       662   2403      1            544.05                          357.81   \n",
       "2      1001   1523      1           1693.61                          382.04   \n",
       "3      2318   2584      1           1215.42                          230.08   \n",
       "4       473   2228      1            276.66                          209.22   \n",
       "\n",
       "   geometric_mean_travel_time  geometric_standard_deviation_travel_time  \n",
       "0                      370.71                                      1.69  \n",
       "1                      473.43                                      1.63  \n",
       "2                     1655.94                                      1.23  \n",
       "3                     1194.10                                      1.21  \n",
       "4                      207.47                                      2.19  "
      ]
     },
     "execution_count": 27,
     "metadata": {},
     "output_type": "execute_result"
    }
   ],
   "source": [
    "%%bigquery\n",
    "select * from uber_staging.Quarter1_2019 limit 5"
   ]
  },
  {
   "cell_type": "markdown",
   "metadata": {},
   "source": [
    "#### Quarter 3 of 2019"
   ]
  },
  {
   "cell_type": "code",
   "execution_count": 13,
   "metadata": {},
   "outputs": [
    {
     "name": "stdout",
     "output_type": "stream",
     "text": [
      "Waiting on bqjob_r4793a1f29648aa48_000001702c5f36d2_1 ... (48s) Current status: DONE   \n"
     ]
    }
   ],
   "source": [
    "!bq --location=US load --autodetect --skip_leading_rows=1 --source_format=CSV {dataset_id}.Quarter3_2019 'gs://bmease/travel_times_LA_2019_quarter3.csv'"
   ]
  },
  {
   "cell_type": "code",
   "execution_count": 28,
   "metadata": {},
   "outputs": [
    {
     "data": {
      "text/html": [
       "<div>\n",
       "<style scoped>\n",
       "    .dataframe tbody tr th:only-of-type {\n",
       "        vertical-align: middle;\n",
       "    }\n",
       "\n",
       "    .dataframe tbody tr th {\n",
       "        vertical-align: top;\n",
       "    }\n",
       "\n",
       "    .dataframe thead th {\n",
       "        text-align: right;\n",
       "    }\n",
       "</style>\n",
       "<table border=\"1\" class=\"dataframe\">\n",
       "  <thead>\n",
       "    <tr style=\"text-align: right;\">\n",
       "      <th></th>\n",
       "      <th>sourceid</th>\n",
       "      <th>dstid</th>\n",
       "      <th>month</th>\n",
       "      <th>mean_travel_time</th>\n",
       "      <th>standard_deviation_travel_time</th>\n",
       "      <th>geometric_mean_travel_time</th>\n",
       "      <th>geometric_standard_deviation_travel_time</th>\n",
       "    </tr>\n",
       "  </thead>\n",
       "  <tbody>\n",
       "    <tr>\n",
       "      <th>0</th>\n",
       "      <td>1365</td>\n",
       "      <td>1361</td>\n",
       "      <td>7</td>\n",
       "      <td>106.81</td>\n",
       "      <td>91.88</td>\n",
       "      <td>85.54</td>\n",
       "      <td>1.97</td>\n",
       "    </tr>\n",
       "    <tr>\n",
       "      <th>1</th>\n",
       "      <td>1345</td>\n",
       "      <td>1561</td>\n",
       "      <td>7</td>\n",
       "      <td>510.42</td>\n",
       "      <td>299.45</td>\n",
       "      <td>449.56</td>\n",
       "      <td>1.60</td>\n",
       "    </tr>\n",
       "    <tr>\n",
       "      <th>2</th>\n",
       "      <td>1379</td>\n",
       "      <td>1221</td>\n",
       "      <td>7</td>\n",
       "      <td>1171.94</td>\n",
       "      <td>745.51</td>\n",
       "      <td>1005.05</td>\n",
       "      <td>1.75</td>\n",
       "    </tr>\n",
       "    <tr>\n",
       "      <th>3</th>\n",
       "      <td>1387</td>\n",
       "      <td>1141</td>\n",
       "      <td>7</td>\n",
       "      <td>1084.61</td>\n",
       "      <td>487.81</td>\n",
       "      <td>978.11</td>\n",
       "      <td>1.59</td>\n",
       "    </tr>\n",
       "    <tr>\n",
       "      <th>4</th>\n",
       "      <td>253</td>\n",
       "      <td>1529</td>\n",
       "      <td>7</td>\n",
       "      <td>929.68</td>\n",
       "      <td>464.51</td>\n",
       "      <td>817.14</td>\n",
       "      <td>1.78</td>\n",
       "    </tr>\n",
       "  </tbody>\n",
       "</table>\n",
       "</div>"
      ],
      "text/plain": [
       "   sourceid  dstid  month  mean_travel_time  standard_deviation_travel_time  \\\n",
       "0      1365   1361      7            106.81                           91.88   \n",
       "1      1345   1561      7            510.42                          299.45   \n",
       "2      1379   1221      7           1171.94                          745.51   \n",
       "3      1387   1141      7           1084.61                          487.81   \n",
       "4       253   1529      7            929.68                          464.51   \n",
       "\n",
       "   geometric_mean_travel_time  geometric_standard_deviation_travel_time  \n",
       "0                       85.54                                      1.97  \n",
       "1                      449.56                                      1.60  \n",
       "2                     1005.05                                      1.75  \n",
       "3                      978.11                                      1.59  \n",
       "4                      817.14                                      1.78  "
      ]
     },
     "execution_count": 28,
     "metadata": {},
     "output_type": "execute_result"
    }
   ],
   "source": [
    "%%bigquery\n",
    "select * from uber_staging.Quarter3_2019 limit 5"
   ]
  },
  {
   "cell_type": "markdown",
   "metadata": {},
   "source": [
    "### Interesting Queries"
   ]
  },
  {
   "cell_type": "markdown",
   "metadata": {},
   "source": [
    "From this query one can see the source location that yielded the longest travel time to reach their destination in a given month. From this data, one can infer possible congestion at the source location if the frequency of occurrence is also high."
   ]
  },
  {
   "cell_type": "code",
   "execution_count": 42,
   "metadata": {},
   "outputs": [
    {
     "data": {
      "text/html": [
       "<div>\n",
       "<style scoped>\n",
       "    .dataframe tbody tr th:only-of-type {\n",
       "        vertical-align: middle;\n",
       "    }\n",
       "\n",
       "    .dataframe tbody tr th {\n",
       "        vertical-align: top;\n",
       "    }\n",
       "\n",
       "    .dataframe thead th {\n",
       "        text-align: right;\n",
       "    }\n",
       "</style>\n",
       "<table border=\"1\" class=\"dataframe\">\n",
       "  <thead>\n",
       "    <tr style=\"text-align: right;\">\n",
       "      <th></th>\n",
       "      <th>sourceid</th>\n",
       "      <th>frequency</th>\n",
       "      <th>travel_time</th>\n",
       "    </tr>\n",
       "  </thead>\n",
       "  <tbody>\n",
       "    <tr>\n",
       "      <th>0</th>\n",
       "      <td>1697</td>\n",
       "      <td>2334</td>\n",
       "      <td>2259.453967</td>\n",
       "    </tr>\n",
       "    <tr>\n",
       "      <th>1</th>\n",
       "      <td>2423</td>\n",
       "      <td>2262</td>\n",
       "      <td>1761.910172</td>\n",
       "    </tr>\n",
       "    <tr>\n",
       "      <th>2</th>\n",
       "      <td>325</td>\n",
       "      <td>2238</td>\n",
       "      <td>1849.381640</td>\n",
       "    </tr>\n",
       "    <tr>\n",
       "      <th>3</th>\n",
       "      <td>1230</td>\n",
       "      <td>2158</td>\n",
       "      <td>1555.766881</td>\n",
       "    </tr>\n",
       "    <tr>\n",
       "      <th>4</th>\n",
       "      <td>1220</td>\n",
       "      <td>2133</td>\n",
       "      <td>1535.848022</td>\n",
       "    </tr>\n",
       "    <tr>\n",
       "      <th>5</th>\n",
       "      <td>412</td>\n",
       "      <td>2081</td>\n",
       "      <td>1783.533763</td>\n",
       "    </tr>\n",
       "    <tr>\n",
       "      <th>6</th>\n",
       "      <td>1501</td>\n",
       "      <td>2064</td>\n",
       "      <td>1520.239855</td>\n",
       "    </tr>\n",
       "    <tr>\n",
       "      <th>7</th>\n",
       "      <td>1222</td>\n",
       "      <td>2056</td>\n",
       "      <td>1473.174115</td>\n",
       "    </tr>\n",
       "    <tr>\n",
       "      <th>8</th>\n",
       "      <td>1233</td>\n",
       "      <td>2055</td>\n",
       "      <td>1634.864832</td>\n",
       "    </tr>\n",
       "    <tr>\n",
       "      <th>9</th>\n",
       "      <td>1170</td>\n",
       "      <td>2055</td>\n",
       "      <td>1372.086618</td>\n",
       "    </tr>\n",
       "  </tbody>\n",
       "</table>\n",
       "</div>"
      ],
      "text/plain": [
       "   sourceid  frequency  travel_time\n",
       "0      1697       2334  2259.453967\n",
       "1      2423       2262  1761.910172\n",
       "2       325       2238  1849.381640\n",
       "3      1230       2158  1555.766881\n",
       "4      1220       2133  1535.848022\n",
       "5       412       2081  1783.533763\n",
       "6      1501       2064  1520.239855\n",
       "7      1222       2056  1473.174115\n",
       "8      1233       2055  1634.864832\n",
       "9      1170       2055  1372.086618"
      ]
     },
     "execution_count": 42,
     "metadata": {},
     "output_type": "execute_result"
    }
   ],
   "source": [
    "%%bigquery\n",
    "select sourceid, count(*) as frequency, avg(mean_travel_time) as travel_time from uber_staging.Quarter1_2018 where month=1 group by sourceid order by frequency desc limit 10"
   ]
  },
  {
   "cell_type": "markdown",
   "metadata": {},
   "source": [
    "From this query we can see the most popular locations in a given month and the average time it took to get to that location. At a glance, it seems like it took longer to get to the most popular destination than other destinations. This could also be due to congestion."
   ]
  },
  {
   "cell_type": "code",
   "execution_count": 43,
   "metadata": {},
   "outputs": [
    {
     "data": {
      "text/html": [
       "<div>\n",
       "<style scoped>\n",
       "    .dataframe tbody tr th:only-of-type {\n",
       "        vertical-align: middle;\n",
       "    }\n",
       "\n",
       "    .dataframe tbody tr th {\n",
       "        vertical-align: top;\n",
       "    }\n",
       "\n",
       "    .dataframe thead th {\n",
       "        text-align: right;\n",
       "    }\n",
       "</style>\n",
       "<table border=\"1\" class=\"dataframe\">\n",
       "  <thead>\n",
       "    <tr style=\"text-align: right;\">\n",
       "      <th></th>\n",
       "      <th>dstid</th>\n",
       "      <th>frequency</th>\n",
       "      <th>travel_time</th>\n",
       "    </tr>\n",
       "  </thead>\n",
       "  <tbody>\n",
       "    <tr>\n",
       "      <th>0</th>\n",
       "      <td>1697</td>\n",
       "      <td>2374</td>\n",
       "      <td>2372.723665</td>\n",
       "    </tr>\n",
       "    <tr>\n",
       "      <th>1</th>\n",
       "      <td>2423</td>\n",
       "      <td>2277</td>\n",
       "      <td>1876.421089</td>\n",
       "    </tr>\n",
       "    <tr>\n",
       "      <th>2</th>\n",
       "      <td>1170</td>\n",
       "      <td>2239</td>\n",
       "      <td>1704.393394</td>\n",
       "    </tr>\n",
       "    <tr>\n",
       "      <th>3</th>\n",
       "      <td>1382</td>\n",
       "      <td>2222</td>\n",
       "      <td>1657.083519</td>\n",
       "    </tr>\n",
       "    <tr>\n",
       "      <th>4</th>\n",
       "      <td>1222</td>\n",
       "      <td>2166</td>\n",
       "      <td>1573.046925</td>\n",
       "    </tr>\n",
       "    <tr>\n",
       "      <th>5</th>\n",
       "      <td>1220</td>\n",
       "      <td>2165</td>\n",
       "      <td>1655.919737</td>\n",
       "    </tr>\n",
       "    <tr>\n",
       "      <th>6</th>\n",
       "      <td>1501</td>\n",
       "      <td>2150</td>\n",
       "      <td>1692.084288</td>\n",
       "    </tr>\n",
       "    <tr>\n",
       "      <th>7</th>\n",
       "      <td>1235</td>\n",
       "      <td>2128</td>\n",
       "      <td>1730.659159</td>\n",
       "    </tr>\n",
       "    <tr>\n",
       "      <th>8</th>\n",
       "      <td>1157</td>\n",
       "      <td>2126</td>\n",
       "      <td>1747.345235</td>\n",
       "    </tr>\n",
       "    <tr>\n",
       "      <th>9</th>\n",
       "      <td>1159</td>\n",
       "      <td>2124</td>\n",
       "      <td>1774.285965</td>\n",
       "    </tr>\n",
       "  </tbody>\n",
       "</table>\n",
       "</div>"
      ],
      "text/plain": [
       "   dstid  frequency  travel_time\n",
       "0   1697       2374  2372.723665\n",
       "1   2423       2277  1876.421089\n",
       "2   1170       2239  1704.393394\n",
       "3   1382       2222  1657.083519\n",
       "4   1222       2166  1573.046925\n",
       "5   1220       2165  1655.919737\n",
       "6   1501       2150  1692.084288\n",
       "7   1235       2128  1730.659159\n",
       "8   1157       2126  1747.345235\n",
       "9   1159       2124  1774.285965"
      ]
     },
     "execution_count": 43,
     "metadata": {},
     "output_type": "execute_result"
    }
   ],
   "source": [
    "%%bigquery\n",
    "select dstid, count(*) as frequency, avg(mean_travel_time) as travel_time from uber_staging.Quarter3_2018 where month=7 group by dstid order by frequency desc limit 10"
   ]
  },
  {
   "cell_type": "markdown",
   "metadata": {},
   "source": [
    "This query will show popularity of Uber rides by month. It can be used to see the busiest month for Uber drivers and the slowest ones."
   ]
  },
  {
   "cell_type": "code",
   "execution_count": 17,
   "metadata": {},
   "outputs": [
    {
     "data": {
      "text/html": [
       "<div>\n",
       "<style scoped>\n",
       "    .dataframe tbody tr th:only-of-type {\n",
       "        vertical-align: middle;\n",
       "    }\n",
       "\n",
       "    .dataframe tbody tr th {\n",
       "        vertical-align: top;\n",
       "    }\n",
       "\n",
       "    .dataframe thead th {\n",
       "        text-align: right;\n",
       "    }\n",
       "</style>\n",
       "<table border=\"1\" class=\"dataframe\">\n",
       "  <thead>\n",
       "    <tr style=\"text-align: right;\">\n",
       "      <th></th>\n",
       "      <th>month</th>\n",
       "      <th>frequency</th>\n",
       "    </tr>\n",
       "  </thead>\n",
       "  <tbody>\n",
       "    <tr>\n",
       "      <th>0</th>\n",
       "      <td>3</td>\n",
       "      <td>1872932</td>\n",
       "    </tr>\n",
       "    <tr>\n",
       "      <th>1</th>\n",
       "      <td>1</td>\n",
       "      <td>1597882</td>\n",
       "    </tr>\n",
       "    <tr>\n",
       "      <th>2</th>\n",
       "      <td>2</td>\n",
       "      <td>1564968</td>\n",
       "    </tr>\n",
       "  </tbody>\n",
       "</table>\n",
       "</div>"
      ],
      "text/plain": [
       "   month  frequency\n",
       "0      3    1872932\n",
       "1      1    1597882\n",
       "2      2    1564968"
      ]
     },
     "execution_count": 17,
     "metadata": {},
     "output_type": "execute_result"
    }
   ],
   "source": [
    "%%bigquery\n",
    "select month, count(*) as frequency from uber_staging.Quarter1_2019 group by month order by frequency desc\n",
    "#Here, we see that the best month in quarter one is March, and the worst month is February"
   ]
  },
  {
   "cell_type": "code",
   "execution_count": 18,
   "metadata": {},
   "outputs": [
    {
     "data": {
      "text/html": [
       "<div>\n",
       "<style scoped>\n",
       "    .dataframe tbody tr th:only-of-type {\n",
       "        vertical-align: middle;\n",
       "    }\n",
       "\n",
       "    .dataframe tbody tr th {\n",
       "        vertical-align: top;\n",
       "    }\n",
       "\n",
       "    .dataframe thead th {\n",
       "        text-align: right;\n",
       "    }\n",
       "</style>\n",
       "<table border=\"1\" class=\"dataframe\">\n",
       "  <thead>\n",
       "    <tr style=\"text-align: right;\">\n",
       "      <th></th>\n",
       "      <th>month</th>\n",
       "      <th>frequency</th>\n",
       "    </tr>\n",
       "  </thead>\n",
       "  <tbody>\n",
       "    <tr>\n",
       "      <th>0</th>\n",
       "      <td>8</td>\n",
       "      <td>1827148</td>\n",
       "    </tr>\n",
       "    <tr>\n",
       "      <th>1</th>\n",
       "      <td>9</td>\n",
       "      <td>1804011</td>\n",
       "    </tr>\n",
       "    <tr>\n",
       "      <th>2</th>\n",
       "      <td>7</td>\n",
       "      <td>1780612</td>\n",
       "    </tr>\n",
       "  </tbody>\n",
       "</table>\n",
       "</div>"
      ],
      "text/plain": [
       "   month  frequency\n",
       "0      8    1827148\n",
       "1      9    1804011\n",
       "2      7    1780612"
      ]
     },
     "execution_count": 18,
     "metadata": {},
     "output_type": "execute_result"
    }
   ],
   "source": [
    "%%bigquery\n",
    "select month, count(*) as frequency from uber_staging.Quarter3_2019 group by month order by frequency desc\n",
    "#Here, we see that the best month in quarter one is August, and the worst month is July"
   ]
  },
  {
   "cell_type": "markdown",
   "metadata": {},
   "source": [
    "This query could be of help to an Uber driver who wants to know where the best place to pick up rides (during the later summer months, in this case). Assuming the driver had the context to know which sourceid represented which area of Los Angeles, he or she could pinpoint the best place to find clients."
   ]
  },
  {
   "cell_type": "code",
   "execution_count": 16,
   "metadata": {},
   "outputs": [
    {
     "data": {
      "text/html": [
       "<div>\n",
       "<style scoped>\n",
       "    .dataframe tbody tr th:only-of-type {\n",
       "        vertical-align: middle;\n",
       "    }\n",
       "\n",
       "    .dataframe tbody tr th {\n",
       "        vertical-align: top;\n",
       "    }\n",
       "\n",
       "    .dataframe thead th {\n",
       "        text-align: right;\n",
       "    }\n",
       "</style>\n",
       "<table border=\"1\" class=\"dataframe\">\n",
       "  <thead>\n",
       "    <tr style=\"text-align: right;\">\n",
       "      <th></th>\n",
       "      <th>sourceid</th>\n",
       "      <th>frequency</th>\n",
       "    </tr>\n",
       "  </thead>\n",
       "  <tbody>\n",
       "    <tr>\n",
       "      <th>0</th>\n",
       "      <td>1697</td>\n",
       "      <td>7300</td>\n",
       "    </tr>\n",
       "    <tr>\n",
       "      <th>1</th>\n",
       "      <td>2423</td>\n",
       "      <td>7118</td>\n",
       "    </tr>\n",
       "    <tr>\n",
       "      <th>2</th>\n",
       "      <td>325</td>\n",
       "      <td>7030</td>\n",
       "    </tr>\n",
       "    <tr>\n",
       "      <th>3</th>\n",
       "      <td>412</td>\n",
       "      <td>6771</td>\n",
       "    </tr>\n",
       "    <tr>\n",
       "      <th>4</th>\n",
       "      <td>1230</td>\n",
       "      <td>6701</td>\n",
       "    </tr>\n",
       "    <tr>\n",
       "      <th>5</th>\n",
       "      <td>1220</td>\n",
       "      <td>6534</td>\n",
       "    </tr>\n",
       "    <tr>\n",
       "      <th>6</th>\n",
       "      <td>1235</td>\n",
       "      <td>6508</td>\n",
       "    </tr>\n",
       "    <tr>\n",
       "      <th>7</th>\n",
       "      <td>1501</td>\n",
       "      <td>6487</td>\n",
       "    </tr>\n",
       "    <tr>\n",
       "      <th>8</th>\n",
       "      <td>1170</td>\n",
       "      <td>6472</td>\n",
       "    </tr>\n",
       "    <tr>\n",
       "      <th>9</th>\n",
       "      <td>1222</td>\n",
       "      <td>6420</td>\n",
       "    </tr>\n",
       "  </tbody>\n",
       "</table>\n",
       "</div>"
      ],
      "text/plain": [
       "   sourceid  frequency\n",
       "0      1697       7300\n",
       "1      2423       7118\n",
       "2       325       7030\n",
       "3       412       6771\n",
       "4      1230       6701\n",
       "5      1220       6534\n",
       "6      1235       6508\n",
       "7      1501       6487\n",
       "8      1170       6472\n",
       "9      1222       6420"
      ]
     },
     "execution_count": 16,
     "metadata": {},
     "output_type": "execute_result"
    }
   ],
   "source": [
    "%%bigquery\n",
    "select sourceid, count(*) as frequency from uber_staging.Quarter3_2019 group by sourceid order by frequency desc\n",
    "limit 10"
   ]
  },
  {
   "cell_type": "markdown",
   "metadata": {},
   "source": [
    "Say an Uber driver has just started working for Uber, and he wants the new driver bonus (give at least 50 rides in 30 days) as quickly as possible. The month is February, so he is a bit concerned that he will have trouble getting rides. The following query will let him know which places have the most short rides (rides shorter than 20 min) in February. He can then go to those sourceid locations and get his 50-100 rides in."
   ]
  },
  {
   "cell_type": "code",
   "execution_count": 49,
   "metadata": {},
   "outputs": [
    {
     "data": {
      "text/html": [
       "<div>\n",
       "<style scoped>\n",
       "    .dataframe tbody tr th:only-of-type {\n",
       "        vertical-align: middle;\n",
       "    }\n",
       "\n",
       "    .dataframe tbody tr th {\n",
       "        vertical-align: top;\n",
       "    }\n",
       "\n",
       "    .dataframe thead th {\n",
       "        text-align: right;\n",
       "    }\n",
       "</style>\n",
       "<table border=\"1\" class=\"dataframe\">\n",
       "  <thead>\n",
       "    <tr style=\"text-align: right;\">\n",
       "      <th></th>\n",
       "      <th>sourceid</th>\n",
       "      <th>frequency</th>\n",
       "      <th>travel_time</th>\n",
       "    </tr>\n",
       "  </thead>\n",
       "  <tbody>\n",
       "    <tr>\n",
       "      <th>0</th>\n",
       "      <td>1170</td>\n",
       "      <td>686</td>\n",
       "      <td>813.372609</td>\n",
       "    </tr>\n",
       "    <tr>\n",
       "      <th>1</th>\n",
       "      <td>1710</td>\n",
       "      <td>685</td>\n",
       "      <td>827.250599</td>\n",
       "    </tr>\n",
       "    <tr>\n",
       "      <th>2</th>\n",
       "      <td>1699</td>\n",
       "      <td>683</td>\n",
       "      <td>842.738243</td>\n",
       "    </tr>\n",
       "    <tr>\n",
       "      <th>3</th>\n",
       "      <td>1382</td>\n",
       "      <td>637</td>\n",
       "      <td>817.895447</td>\n",
       "    </tr>\n",
       "    <tr>\n",
       "      <th>4</th>\n",
       "      <td>1235</td>\n",
       "      <td>637</td>\n",
       "      <td>819.387221</td>\n",
       "    </tr>\n",
       "    <tr>\n",
       "      <th>5</th>\n",
       "      <td>1796</td>\n",
       "      <td>635</td>\n",
       "      <td>821.051480</td>\n",
       "    </tr>\n",
       "    <tr>\n",
       "      <th>6</th>\n",
       "      <td>264</td>\n",
       "      <td>632</td>\n",
       "      <td>832.313244</td>\n",
       "    </tr>\n",
       "    <tr>\n",
       "      <th>7</th>\n",
       "      <td>1158</td>\n",
       "      <td>631</td>\n",
       "      <td>829.411537</td>\n",
       "    </tr>\n",
       "    <tr>\n",
       "      <th>8</th>\n",
       "      <td>1709</td>\n",
       "      <td>616</td>\n",
       "      <td>824.288377</td>\n",
       "    </tr>\n",
       "    <tr>\n",
       "      <th>9</th>\n",
       "      <td>1804</td>\n",
       "      <td>613</td>\n",
       "      <td>832.821501</td>\n",
       "    </tr>\n",
       "  </tbody>\n",
       "</table>\n",
       "</div>"
      ],
      "text/plain": [
       "   sourceid  frequency  travel_time\n",
       "0      1170        686   813.372609\n",
       "1      1710        685   827.250599\n",
       "2      1699        683   842.738243\n",
       "3      1382        637   817.895447\n",
       "4      1235        637   819.387221\n",
       "5      1796        635   821.051480\n",
       "6       264        632   832.313244\n",
       "7      1158        631   829.411537\n",
       "8      1709        616   824.288377\n",
       "9      1804        613   832.821501"
      ]
     },
     "execution_count": 49,
     "metadata": {},
     "output_type": "execute_result"
    }
   ],
   "source": [
    "%%bigquery\n",
    "select sourceid, count(*)  as frequency, avg(mean_travel_time) as travel_time from uber_staging.Quarter1_2019 \n",
    "where month=2 and mean_travel_time < 1200 group by sourceid order by frequency desc\n",
    "limit 10"
   ]
  }
 ],
 "metadata": {
  "kernelspec": {
   "display_name": "Python 3",
   "language": "python",
   "name": "python3"
  },
  "language_info": {
   "codemirror_mode": {
    "name": "ipython",
    "version": 3
   },
   "file_extension": ".py",
   "mimetype": "text/x-python",
   "name": "python",
   "nbconvert_exporter": "python",
   "pygments_lexer": "ipython3",
   "version": "3.5.3"
  }
 },
 "nbformat": 4,
 "nbformat_minor": 4
}
