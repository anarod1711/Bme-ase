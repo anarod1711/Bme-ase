{
 "cells": [
  {
   "cell_type": "markdown",
   "metadata": {},
   "source": [
    "## Instacart Orders and USDA ERS Food Prices Cross Analysis"
   ]
  },
  {
   "cell_type": "code",
   "execution_count": 1,
   "metadata": {},
   "outputs": [],
   "source": [
    "dataset_id = \"reporting\""
   ]
  },
  {
   "cell_type": "code",
   "execution_count": 2,
   "metadata": {},
   "outputs": [
    {
     "name": "stdout",
     "output_type": "stream",
     "text": [
      "Too many positional args, still have ['will', 'not', 'work', 'if', 'you', 'already', 'have', 'a', 'dataset', 'with', 'this', 'name']\n"
     ]
    }
   ],
   "source": [
    "!bq --location=US mk --dataset {dataset_id}#Note: This will not work if you already have a dataset with this name"
   ]
  },
  {
   "cell_type": "markdown",
   "metadata": {},
   "source": [
    "#### Query 1"
   ]
  },
  {
   "cell_type": "markdown",
   "metadata": {},
   "source": [
    "By predicting the 2017 food prices based on linear regression, we are able to approximate how much Instcart users spent on each order. Then, we are able to calculate the average total for Instacart orders by day."
   ]
  },
  {
   "cell_type": "code",
   "execution_count": 1,
   "metadata": {},
   "outputs": [
    {
     "data": {
      "text/html": [
       "<div>\n",
       "<style scoped>\n",
       "    .dataframe tbody tr th:only-of-type {\n",
       "        vertical-align: middle;\n",
       "    }\n",
       "\n",
       "    .dataframe tbody tr th {\n",
       "        vertical-align: top;\n",
       "    }\n",
       "\n",
       "    .dataframe thead th {\n",
       "        text-align: right;\n",
       "    }\n",
       "</style>\n",
       "<table border=\"1\" class=\"dataframe\">\n",
       "  <thead>\n",
       "    <tr style=\"text-align: right;\">\n",
       "      <th></th>\n",
       "      <th>day_id</th>\n",
       "      <th>Day</th>\n",
       "      <th>Average</th>\n",
       "    </tr>\n",
       "  </thead>\n",
       "  <tbody>\n",
       "    <tr>\n",
       "      <th>0</th>\n",
       "      <td>0</td>\n",
       "      <td>Monday</td>\n",
       "      <td>6.578466</td>\n",
       "    </tr>\n",
       "    <tr>\n",
       "      <th>1</th>\n",
       "      <td>1</td>\n",
       "      <td>Tuesday</td>\n",
       "      <td>6.018205</td>\n",
       "    </tr>\n",
       "    <tr>\n",
       "      <th>2</th>\n",
       "      <td>2</td>\n",
       "      <td>Wednesday</td>\n",
       "      <td>5.624942</td>\n",
       "    </tr>\n",
       "    <tr>\n",
       "      <th>3</th>\n",
       "      <td>3</td>\n",
       "      <td>Thursday</td>\n",
       "      <td>5.478441</td>\n",
       "    </tr>\n",
       "    <tr>\n",
       "      <th>4</th>\n",
       "      <td>4</td>\n",
       "      <td>Friday</td>\n",
       "      <td>5.545686</td>\n",
       "    </tr>\n",
       "    <tr>\n",
       "      <th>5</th>\n",
       "      <td>5</td>\n",
       "      <td>Saturday</td>\n",
       "      <td>5.825353</td>\n",
       "    </tr>\n",
       "    <tr>\n",
       "      <th>6</th>\n",
       "      <td>6</td>\n",
       "      <td>Sunday</td>\n",
       "      <td>6.304218</td>\n",
       "    </tr>\n",
       "  </tbody>\n",
       "</table>\n",
       "</div>"
      ],
      "text/plain": [
       "   day_id        Day   Average\n",
       "0       0     Monday  6.578466\n",
       "1       1    Tuesday  6.018205\n",
       "2       2  Wednesday  5.624942\n",
       "3       3   Thursday  5.478441\n",
       "4       4     Friday  5.545686\n",
       "5       5   Saturday  5.825353\n",
       "6       6     Sunday  6.304218"
      ]
     },
     "execution_count": 1,
     "metadata": {},
     "output_type": "execute_result"
    }
   ],
   "source": [
    "%%bigquery\n",
    "SELECT d.day_id, d.day_name as Day, AVG(p.Total) as Average\n",
    "FROM\n",
    "(SELECT op.order_id, SUM(ap.price) as Total\n",
    "FROM `responsive-cab-267123.instacart_modeled.Order_Products` op\n",
    "INNER JOIN `responsive-cab-267123.USDA_ERS_modeled.Food_Map_Beam_DF` m ON op.product_id = m.product_id\n",
    "INNER JOIN `responsive-cab-267123.USDA_ERS_modeled.Food_Market_Beam_DF` ap ON m.food_id = ap.food_id\n",
    "WHERE op.product_id IN \n",
    "(SELECT m1.product_id FROM `responsive-cab-267123.USDA_ERS_modeled.Food_Map_Beam_DF` m1)\n",
    "GROUP BY op.order_id) p\n",
    "INNER JOIN `responsive-cab-267123.instacart_modeled.Orders` o ON p.order_id = o.order_id\n",
    "INNER JOIN `responsive-cab-267123.instacart_modeled.Week_Days` d ON o.order_dow = d.day_id\n",
    "GROUP BY d.day_name, d.day_id\n",
    "ORDER BY d.day_id ASC"
   ]
  },
  {
   "cell_type": "markdown",
   "metadata": {},
   "source": [
    "Creating view for query"
   ]
  },
  {
   "cell_type": "code",
   "execution_count": 3,
   "metadata": {},
   "outputs": [
    {
     "data": {
      "text/html": [
       "<div>\n",
       "<style scoped>\n",
       "    .dataframe tbody tr th:only-of-type {\n",
       "        vertical-align: middle;\n",
       "    }\n",
       "\n",
       "    .dataframe tbody tr th {\n",
       "        vertical-align: top;\n",
       "    }\n",
       "\n",
       "    .dataframe thead th {\n",
       "        text-align: right;\n",
       "    }\n",
       "</style>\n",
       "<table border=\"1\" class=\"dataframe\">\n",
       "  <thead>\n",
       "    <tr style=\"text-align: right;\">\n",
       "      <th></th>\n",
       "    </tr>\n",
       "  </thead>\n",
       "  <tbody>\n",
       "  </tbody>\n",
       "</table>\n",
       "</div>"
      ],
      "text/plain": [
       "Empty DataFrame\n",
       "Columns: []\n",
       "Index: []"
      ]
     },
     "execution_count": 3,
     "metadata": {},
     "output_type": "execute_result"
    }
   ],
   "source": [
    "%%bigquery\n",
    "CREATE OR REPLACE VIEW reporting.v_Week_Day_Price_Totals AS\n",
    "(SELECT d.day_id, d.day_name as Day, AVG(p.Total) as Average\n",
    "FROM\n",
    "(SELECT op.order_id, SUM(ap.price) as Total\n",
    "FROM `responsive-cab-267123.instacart_modeled.Order_Products` op\n",
    "INNER JOIN `responsive-cab-267123.USDA_ERS_modeled.Food_Map_Beam_DF` m ON op.product_id = m.product_id\n",
    "INNER JOIN `responsive-cab-267123.USDA_ERS_modeled.Food_Market_Beam_DF` ap ON m.food_id = ap.food_id\n",
    "WHERE op.product_id IN \n",
    "(SELECT m1.product_id FROM `responsive-cab-267123.USDA_ERS_modeled.Food_Map_Beam_DF` m1)\n",
    "GROUP BY op.order_id) p\n",
    "INNER JOIN `responsive-cab-267123.instacart_modeled.Orders` o ON p.order_id = o.order_id\n",
    "INNER JOIN `responsive-cab-267123.instacart_modeled.Week_Days` d ON o.order_dow = d.day_id\n",
    "GROUP BY d.day_name, d.day_id\n",
    "ORDER BY d.day_id ASC)"
   ]
  },
  {
   "cell_type": "markdown",
   "metadata": {},
   "source": [
    "#### Queries 2 and 3"
   ]
  },
  {
   "cell_type": "markdown",
   "metadata": {},
   "source": [
    "From these queries we can see how the sale of the most expensive product versus the least expensive product was affected. We break the sales down to the day of the week."
   ]
  },
  {
   "cell_type": "markdown",
   "metadata": {},
   "source": [
    "##### minimum"
   ]
  },
  {
   "cell_type": "code",
   "execution_count": 8,
   "metadata": {},
   "outputs": [
    {
     "data": {
      "text/html": [
       "<div>\n",
       "<style scoped>\n",
       "    .dataframe tbody tr th:only-of-type {\n",
       "        vertical-align: middle;\n",
       "    }\n",
       "\n",
       "    .dataframe tbody tr th {\n",
       "        vertical-align: top;\n",
       "    }\n",
       "\n",
       "    .dataframe thead th {\n",
       "        text-align: right;\n",
       "    }\n",
       "</style>\n",
       "<table border=\"1\" class=\"dataframe\">\n",
       "  <thead>\n",
       "    <tr style=\"text-align: right;\">\n",
       "      <th></th>\n",
       "      <th>Product</th>\n",
       "      <th>Frequency</th>\n",
       "    </tr>\n",
       "  </thead>\n",
       "  <tbody>\n",
       "    <tr>\n",
       "      <th>0</th>\n",
       "      <td>Cold Brew Coffee</td>\n",
       "      <td>9243</td>\n",
       "    </tr>\n",
       "    <tr>\n",
       "      <th>1</th>\n",
       "      <td>New Orleans Iced Coffee</td>\n",
       "      <td>7192</td>\n",
       "    </tr>\n",
       "    <tr>\n",
       "      <th>2</th>\n",
       "      <td>Premium Unsweetened Iced Tea</td>\n",
       "      <td>6458</td>\n",
       "    </tr>\n",
       "    <tr>\n",
       "      <th>3</th>\n",
       "      <td>Major Dickason's Blend Ground Coffee Dark Roast</td>\n",
       "      <td>6186</td>\n",
       "    </tr>\n",
       "    <tr>\n",
       "      <th>4</th>\n",
       "      <td>Cold-Brew Black Coffee</td>\n",
       "      <td>5914</td>\n",
       "    </tr>\n",
       "    <tr>\n",
       "      <th>5</th>\n",
       "      <td>French Roast Ground Coffee</td>\n",
       "      <td>5302</td>\n",
       "    </tr>\n",
       "    <tr>\n",
       "      <th>6</th>\n",
       "      <td>Pink Lady Apple Kombucha</td>\n",
       "      <td>5186</td>\n",
       "    </tr>\n",
       "    <tr>\n",
       "      <th>7</th>\n",
       "      <td>Zen Tea</td>\n",
       "      <td>4984</td>\n",
       "    </tr>\n",
       "    <tr>\n",
       "      <th>8</th>\n",
       "      <td>Unsweetened Premium Iced Tea</td>\n",
       "      <td>4043</td>\n",
       "    </tr>\n",
       "    <tr>\n",
       "      <th>9</th>\n",
       "      <td>House Blend Deep Roast Ground Coffee</td>\n",
       "      <td>3926</td>\n",
       "    </tr>\n",
       "  </tbody>\n",
       "</table>\n",
       "</div>"
      ],
      "text/plain": [
       "                                           Product  Frequency\n",
       "0                                 Cold Brew Coffee       9243\n",
       "1                          New Orleans Iced Coffee       7192\n",
       "2                     Premium Unsweetened Iced Tea       6458\n",
       "3  Major Dickason's Blend Ground Coffee Dark Roast       6186\n",
       "4                           Cold-Brew Black Coffee       5914\n",
       "5                       French Roast Ground Coffee       5302\n",
       "6                         Pink Lady Apple Kombucha       5186\n",
       "7                                          Zen Tea       4984\n",
       "8                     Unsweetened Premium Iced Tea       4043\n",
       "9             House Blend Deep Roast Ground Coffee       3926"
      ]
     },
     "execution_count": 8,
     "metadata": {},
     "output_type": "execute_result"
    }
   ],
   "source": [
    "%%bigquery\n",
    "SELECT p.product_name AS Product, count(1) AS Frequency\n",
    "FROM `responsive-cab-267123.instacart_modeled.Order_Products` op\n",
    "INNER JOIN `responsive-cab-267123.instacart_modeled.Products` p ON op.product_id=p.product_id\n",
    "WHERE op.product_id IN\n",
    "(SELECT m.product_id\n",
    "FROM\n",
    "((SELECT f1.food_id\n",
    "FROM `responsive-cab-267123.USDA_ERS_modeled.Food_Market_Beam_DF`  f1\n",
    "WHERE f1.price=\n",
    "(SELECT MIN(f2.price)\n",
    "FROM `responsive-cab-267123.USDA_ERS_modeled.Food_Market_Beam_DF`  f2)) mfp\n",
    "INNER JOIN `responsive-cab-267123.USDA_ERS_modeled.Food_Map_Beam_DF` m ON mfp.food_id=m.food_id))\n",
    "GROUP BY p.product_name\n",
    "ORDER BY Frequency DESC\n",
    "limit 10"
   ]
  },
  {
   "cell_type": "code",
   "execution_count": 9,
   "metadata": {},
   "outputs": [
    {
     "data": {
      "text/html": [
       "<div>\n",
       "<style scoped>\n",
       "    .dataframe tbody tr th:only-of-type {\n",
       "        vertical-align: middle;\n",
       "    }\n",
       "\n",
       "    .dataframe tbody tr th {\n",
       "        vertical-align: top;\n",
       "    }\n",
       "\n",
       "    .dataframe thead th {\n",
       "        text-align: right;\n",
       "    }\n",
       "</style>\n",
       "<table border=\"1\" class=\"dataframe\">\n",
       "  <thead>\n",
       "    <tr style=\"text-align: right;\">\n",
       "      <th></th>\n",
       "    </tr>\n",
       "  </thead>\n",
       "  <tbody>\n",
       "  </tbody>\n",
       "</table>\n",
       "</div>"
      ],
      "text/plain": [
       "Empty DataFrame\n",
       "Columns: []\n",
       "Index: []"
      ]
     },
     "execution_count": 9,
     "metadata": {},
     "output_type": "execute_result"
    }
   ],
   "source": [
    "%%bigquery\n",
    "CREATE OR REPLACE VIEW reporting.v_Min_Price_Sales AS\n",
    "(SELECT p.product_name AS Product, count(1) AS Frequency\n",
    "FROM `responsive-cab-267123.instacart_modeled.Order_Products` op\n",
    "INNER JOIN `responsive-cab-267123.instacart_modeled.Products` p ON op.product_id=p.product_id\n",
    "WHERE op.product_id IN\n",
    "(SELECT m.product_id\n",
    "FROM\n",
    "((SELECT f1.food_id\n",
    "FROM `responsive-cab-267123.USDA_ERS_modeled.Food_Market_Beam_DF`  f1\n",
    "WHERE f1.price=\n",
    "(SELECT MIN(f2.price)\n",
    "FROM `responsive-cab-267123.USDA_ERS_modeled.Food_Market_Beam_DF`  f2)) mfp\n",
    "INNER JOIN `responsive-cab-267123.USDA_ERS_modeled.Food_Map_Beam_DF` m ON mfp.food_id=m.food_id))\n",
    "GROUP BY p.product_name\n",
    "ORDER BY Frequency DESC\n",
    "limit 10)"
   ]
  },
  {
   "cell_type": "markdown",
   "metadata": {},
   "source": [
    "##### maximum "
   ]
  },
  {
   "cell_type": "code",
   "execution_count": 10,
   "metadata": {},
   "outputs": [
    {
     "data": {
      "text/html": [
       "<div>\n",
       "<style scoped>\n",
       "    .dataframe tbody tr th:only-of-type {\n",
       "        vertical-align: middle;\n",
       "    }\n",
       "\n",
       "    .dataframe tbody tr th {\n",
       "        vertical-align: top;\n",
       "    }\n",
       "\n",
       "    .dataframe thead th {\n",
       "        text-align: right;\n",
       "    }\n",
       "</style>\n",
       "<table border=\"1\" class=\"dataframe\">\n",
       "  <thead>\n",
       "    <tr style=\"text-align: right;\">\n",
       "      <th></th>\n",
       "      <th>Product</th>\n",
       "      <th>Frequency</th>\n",
       "    </tr>\n",
       "  </thead>\n",
       "  <tbody>\n",
       "    <tr>\n",
       "      <th>0</th>\n",
       "      <td>Macaroni &amp; Cheese</td>\n",
       "      <td>18132</td>\n",
       "    </tr>\n",
       "    <tr>\n",
       "      <th>1</th>\n",
       "      <td>Organic Brown Rice</td>\n",
       "      <td>14848</td>\n",
       "    </tr>\n",
       "    <tr>\n",
       "      <th>2</th>\n",
       "      <td>Pesto Tortellini  Bowls</td>\n",
       "      <td>8785</td>\n",
       "    </tr>\n",
       "    <tr>\n",
       "      <th>3</th>\n",
       "      <td>Organic Beans &amp; Rice Cheddar Cheese Burrito</td>\n",
       "      <td>8291</td>\n",
       "    </tr>\n",
       "    <tr>\n",
       "      <th>4</th>\n",
       "      <td>Broccoli &amp; Cheddar Bake Meal Bowl</td>\n",
       "      <td>7543</td>\n",
       "    </tr>\n",
       "    <tr>\n",
       "      <th>5</th>\n",
       "      <td>Organic Jasmine Rice</td>\n",
       "      <td>6909</td>\n",
       "    </tr>\n",
       "    <tr>\n",
       "      <th>6</th>\n",
       "      <td>Bean &amp; Cheese Burrito</td>\n",
       "      <td>6330</td>\n",
       "    </tr>\n",
       "    <tr>\n",
       "      <th>7</th>\n",
       "      <td>Chicken Pot Pie</td>\n",
       "      <td>5843</td>\n",
       "    </tr>\n",
       "    <tr>\n",
       "      <th>8</th>\n",
       "      <td>Pad Thai</td>\n",
       "      <td>5561</td>\n",
       "    </tr>\n",
       "    <tr>\n",
       "      <th>9</th>\n",
       "      <td>Organic Gluten Free Non-Dairy Beans &amp; Rice Bur...</td>\n",
       "      <td>5195</td>\n",
       "    </tr>\n",
       "  </tbody>\n",
       "</table>\n",
       "</div>"
      ],
      "text/plain": [
       "                                             Product  Frequency\n",
       "0                                  Macaroni & Cheese      18132\n",
       "1                                 Organic Brown Rice      14848\n",
       "2                            Pesto Tortellini  Bowls       8785\n",
       "3        Organic Beans & Rice Cheddar Cheese Burrito       8291\n",
       "4                  Broccoli & Cheddar Bake Meal Bowl       7543\n",
       "5                               Organic Jasmine Rice       6909\n",
       "6                              Bean & Cheese Burrito       6330\n",
       "7                                    Chicken Pot Pie       5843\n",
       "8                                           Pad Thai       5561\n",
       "9  Organic Gluten Free Non-Dairy Beans & Rice Bur...       5195"
      ]
     },
     "execution_count": 10,
     "metadata": {},
     "output_type": "execute_result"
    }
   ],
   "source": [
    "%%bigquery\n",
    "SELECT p.product_name AS Product, count(1) AS Frequency\n",
    "FROM `responsive-cab-267123.instacart_modeled.Order_Products` op\n",
    "INNER JOIN `responsive-cab-267123.instacart_modeled.Products` p ON op.product_id=p.product_id\n",
    "WHERE op.product_id IN\n",
    "(SELECT m.product_id\n",
    "FROM\n",
    "((SELECT f1.food_id\n",
    "FROM `responsive-cab-267123.USDA_ERS_modeled.Food_Market_Beam_DF`  f1\n",
    "WHERE f1.price=\n",
    "(SELECT MAX(f2.price)\n",
    "FROM `responsive-cab-267123.USDA_ERS_modeled.Food_Market_Beam_DF`  f2)) mfp\n",
    "INNER JOIN `responsive-cab-267123.USDA_ERS_modeled.Food_Map_Beam_DF` m ON mfp.food_id=m.food_id))\n",
    "GROUP BY p.product_name\n",
    "ORDER BY Frequency DESC\n",
    "limit 10"
   ]
  },
  {
   "cell_type": "code",
   "execution_count": 11,
   "metadata": {},
   "outputs": [
    {
     "data": {
      "text/html": [
       "<div>\n",
       "<style scoped>\n",
       "    .dataframe tbody tr th:only-of-type {\n",
       "        vertical-align: middle;\n",
       "    }\n",
       "\n",
       "    .dataframe tbody tr th {\n",
       "        vertical-align: top;\n",
       "    }\n",
       "\n",
       "    .dataframe thead th {\n",
       "        text-align: right;\n",
       "    }\n",
       "</style>\n",
       "<table border=\"1\" class=\"dataframe\">\n",
       "  <thead>\n",
       "    <tr style=\"text-align: right;\">\n",
       "      <th></th>\n",
       "    </tr>\n",
       "  </thead>\n",
       "  <tbody>\n",
       "  </tbody>\n",
       "</table>\n",
       "</div>"
      ],
      "text/plain": [
       "Empty DataFrame\n",
       "Columns: []\n",
       "Index: []"
      ]
     },
     "execution_count": 11,
     "metadata": {},
     "output_type": "execute_result"
    }
   ],
   "source": [
    "%%bigquery\n",
    "CREATE OR REPLACE VIEW reporting.v_Max_Price_Sales AS\n",
    "(SELECT p.product_name AS Product, count(1) AS Frequency\n",
    "FROM `responsive-cab-267123.instacart_modeled.Order_Products` op\n",
    "INNER JOIN `responsive-cab-267123.instacart_modeled.Products` p ON op.product_id=p.product_id\n",
    "WHERE op.product_id IN\n",
    "(SELECT m.product_id\n",
    "FROM\n",
    "((SELECT f1.food_id\n",
    "FROM `responsive-cab-267123.USDA_ERS_modeled.Food_Market_Beam_DF`  f1\n",
    "WHERE f1.price=\n",
    "(SELECT MAX(f2.price)\n",
    "FROM `responsive-cab-267123.USDA_ERS_modeled.Food_Market_Beam_DF`  f2)) mfp\n",
    "INNER JOIN `responsive-cab-267123.USDA_ERS_modeled.Food_Map_Beam_DF` m ON mfp.food_id=m.food_id))\n",
    "GROUP BY p.product_name\n",
    "ORDER BY Frequency DESC\n",
    "limit 10)"
   ]
  },
  {
   "cell_type": "code",
   "execution_count": null,
   "metadata": {},
   "outputs": [],
   "source": []
  }
 ],
 "metadata": {
  "kernelspec": {
   "display_name": "Python (beam_venv)",
   "language": "python",
   "name": "beam_venv_kernel"
  },
  "language_info": {
   "codemirror_mode": {
    "name": "ipython",
    "version": 3
   },
   "file_extension": ".py",
   "mimetype": "text/x-python",
   "name": "python",
   "nbconvert_exporter": "python",
   "pygments_lexer": "ipython3",
   "version": "3.5.3"
  }
 },
 "nbformat": 4,
 "nbformat_minor": 4
}
