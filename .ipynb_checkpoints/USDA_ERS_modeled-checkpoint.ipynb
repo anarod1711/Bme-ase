{
 "cells": [
  {
   "cell_type": "markdown",
   "metadata": {},
   "source": [
    "# Modeling USDA ERS Food data"
   ]
  },
  {
   "cell_type": "code",
   "execution_count": 1,
   "metadata": {},
   "outputs": [],
   "source": [
    "dataset_id = \"USDA_ERS_modeled\""
   ]
  },
  {
   "cell_type": "code",
   "execution_count": 1,
   "metadata": {},
   "outputs": [
    {
     "name": "stdout",
     "output_type": "stream",
     "text": [
      "Dataset 'responsive-cab-267123:USDA_ERS_modeled' successfully created.\n"
     ]
    }
   ],
   "source": [
    "!bq --location=US mk --dataset {dataset_id}  #Note: This will not work if you already have a dataset with this name"
   ]
  },
  {
   "cell_type": "markdown",
   "metadata": {},
   "source": [
    "The `FIPS_Market_Group` and `State_Codes` tables do not contribute anything to our planned analysis, as descriped in the DATASETS.txt file, so we don't transfer them over to our modeled dataset. The `Geo_Market_Group` table contains the same data as `Geo_Market`, so we can drop it."
   ]
  },
  {
   "cell_type": "markdown",
   "metadata": {},
   "source": [
    "To model:\n",
    "\n",
    "*Look at ERD as you do this section :O\n",
    "Feel free to change table names and anything you want.*\n",
    "* some child tables have the \"name\" instead of \"id\" as the FK. I think id should be FK (look @ ERD) but feel free to change\n",
    "* Drop the extra blank column(s) in `Market_Groups` table(s)\n",
    "    * change column names to what's on ERD\n",
    "* Add meaningul column names to `Geo_Market`: (check ERD)\n",
    "    * the `nielson_name` (4th column) field in the `Geo_Master` table violates the 1NF design principle\n",
    "        * we could make a separate table for \"Geo_Nielson\" with nielson_id and nielson_name (up to you)\n",
    "        * change ERD if do\n",
    "* union all `Food_#_Market` tables, but make sure to add a column to represent the food# (This table needs a PK)\n",
    "    * I changed some attribute names in Food_#_Market (but feel free to change them back and fix ERD)\n",
    "        * se to standard_error\n",
    "        * n to sample_size\n",
    "        * aggweight to agg_weight\n",
    "        * totexp to tot_q_exp\n",
    "    * delete region and division attributes from the new unioned `Food_Market` because it's repetitive (can be traced back to Geo_Market parent table)\n",
    "* check PK/FK violations, add to transforms.txt file \n",
    "* anything else you can think of\n",
    "* anything not transformed/modeled, add to TRANSFORMS.txt file\n",
    "    * we can make the mapping table between primary and secondary dataset in the next milestone"
   ]
  },
  {
   "cell_type": "code",
   "execution_count": null,
   "metadata": {},
   "outputs": [],
   "source": []
  }
 ],
 "metadata": {
  "kernelspec": {
   "display_name": "Python 3",
   "language": "python",
   "name": "python3"
  },
  "language_info": {
   "codemirror_mode": {
    "name": "ipython",
    "version": 3
   },
   "file_extension": ".py",
   "mimetype": "text/x-python",
   "name": "python",
   "nbconvert_exporter": "python",
   "pygments_lexer": "ipython3",
   "version": "3.5.3"
  }
 },
 "nbformat": 4,
 "nbformat_minor": 4
}
